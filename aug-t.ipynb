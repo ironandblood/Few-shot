{
 "cells": [
  {
   "cell_type": "code",
   "execution_count": 13,
   "metadata": {
    "collapsed": true,
    "ExecuteTime": {
     "end_time": "2023-05-24T04:45:39.479802800Z",
     "start_time": "2023-05-24T04:45:39.459802900Z"
    }
   },
   "outputs": [],
   "source": [
    "from torchtoolbox.transform import Cutout\n",
    "from torchvision.transforms import transforms\n",
    "\n",
    "aug = transforms.Compose([\n",
    "    transforms.Resize(256),\n",
    "    transforms.RandomCrop(224, padding=16), #每边填充16\n",
    "    Cutout(0.5, scale=(0.05, 0.1)),         #随机遮挡\n",
    "    transforms.ColorJitter(0.2, 0.2, 0.2),  # 颜色抖动\n",
    "    transforms.GaussianBlur(1, 2.0),        # 高斯模糊\n",
    "    transforms.RandomHorizontalFlip(p=0.3), # 水平翻转\n",
    "    transforms.RandomVerticalFlip(p=0.3),   # 垂直翻转\n",
    "    transforms.RandomRotation((-10, 10)),   # 随机旋转\n",
    "    transforms.ToTensor()\n",
    "])\n",
    "\n",
    "tot = transforms.Compose([\n",
    "    transforms.Resize(224),\n",
    "    transforms.ToTensor()\n",
    "])\n"
   ]
  },
  {
   "cell_type": "code",
   "execution_count": 14,
   "outputs": [],
   "source": [
    "import timm\n",
    "model = timm.create_model('vit_base_patch16_224', pretrained=True)"
   ],
   "metadata": {
    "collapsed": false,
    "ExecuteTime": {
     "end_time": "2023-05-24T04:45:43.140570700Z",
     "start_time": "2023-05-24T04:45:39.895457600Z"
    }
   }
  },
  {
   "cell_type": "code",
   "execution_count": 15,
   "outputs": [],
   "source": [
    "from PIL import Image\n",
    "img = Image.open('../train/aquatic_mammals_dolphin/10.jpg')\n",
    "aug_img = aug(img)"
   ],
   "metadata": {
    "collapsed": false,
    "ExecuteTime": {
     "end_time": "2023-05-24T04:45:43.909375700Z",
     "start_time": "2023-05-24T04:45:43.890374400Z"
    }
   }
  },
  {
   "cell_type": "code",
   "execution_count": 16,
   "outputs": [],
   "source": [
    "with open(\"imagenet_classes.txt\", \"r\") as f:\n",
    "    categories = [s.strip() for s in f.readlines()]"
   ],
   "metadata": {
    "collapsed": false,
    "ExecuteTime": {
     "end_time": "2023-05-24T04:45:46.689680400Z",
     "start_time": "2023-05-24T04:45:46.679179700Z"
    }
   }
  },
  {
   "cell_type": "code",
   "execution_count": 17,
   "outputs": [
    {
     "name": "stdout",
     "output_type": "stream",
     "text": [
      "dugong 0.37371596693992615\n",
      "killer whale 0.1737522929906845\n",
      "grey whale 0.12140315771102905\n",
      "hammerhead 0.043012864887714386\n",
      "tiger shark 0.03868541121482849\n",
      "WE AUG\n",
      "killer whale 0.3640826344490051\n",
      "dugong 0.1437942385673523\n",
      "grey whale 0.10048488527536392\n",
      "screen 0.025882530957460403\n",
      "great white shark 0.020826144143939018\n"
     ]
    }
   ],
   "source": [
    "import torch\n",
    "\n",
    "img = tot(img)\n",
    "def show(img, model):\n",
    "    out = model(img.unsqueeze(0))\n",
    "    probabilities = torch.nn.functional.softmax(out[0], dim=0)\n",
    "    # Print top categories per image\n",
    "    top5_prob, top5_catid = torch.topk(probabilities, 5)\n",
    "    for i in range(top5_prob.size(0)):\n",
    "        print(categories[top5_catid[i]], top5_prob[i].item())\n",
    "show(img, model)\n",
    "print(\"WE AUG\")\n",
    "show(aug_img, model)"
   ],
   "metadata": {
    "collapsed": false,
    "ExecuteTime": {
     "end_time": "2023-05-24T04:45:52.879869300Z",
     "start_time": "2023-05-24T04:45:51.166528800Z"
    }
   }
  },
  {
   "cell_type": "code",
   "execution_count": null,
   "outputs": [],
   "source": [],
   "metadata": {
    "collapsed": false
   }
  }
 ],
 "metadata": {
  "kernelspec": {
   "display_name": "Python 3",
   "language": "python",
   "name": "python3"
  },
  "language_info": {
   "codemirror_mode": {
    "name": "ipython",
    "version": 2
   },
   "file_extension": ".py",
   "mimetype": "text/x-python",
   "name": "python",
   "nbconvert_exporter": "python",
   "pygments_lexer": "ipython2",
   "version": "2.7.6"
  }
 },
 "nbformat": 4,
 "nbformat_minor": 0
}
